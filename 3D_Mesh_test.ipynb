{
  "cells": [
    {
      "cell_type": "markdown",
      "metadata": {
        "id": "view-in-github",
        "colab_type": "text"
      },
      "source": [
        "<a href=\"https://colab.research.google.com/github/ponponxx/Keyence_LJXSample_OpenCV/blob/main/3D_Mesh_test.ipynb\" target=\"_parent\"><img src=\"https://colab.research.google.com/assets/colab-badge.svg\" alt=\"Open In Colab\"/></a>"
      ]
    },
    {
      "cell_type": "code",
      "execution_count": null,
      "id": "f1cf866f",
      "metadata": {
        "scrolled": true,
        "id": "f1cf866f",
        "outputId": "35d8cc17-e471-4c20-ef93-96467e509c51"
      },
      "outputs": [
        {
          "name": "stdout",
          "output_type": "stream",
          "text": [
            "Jupyter environment detected. Enabling Open3D WebVisualizer.\n",
            "[Open3D INFO] WebRTC GUI backend enabled.\n",
            "[Open3D INFO] WebRTCWindowSystem: HTTP handshake server disabled.\n"
          ]
        }
      ],
      "source": [
        "import numpy as np\n",
        "import cv2\n",
        "import open3d as o3d\n",
        "import os"
      ]
    },
    {
      "cell_type": "code",
      "execution_count": null,
      "id": "7dcfc3f5",
      "metadata": {
        "id": "7dcfc3f5"
      },
      "outputs": [],
      "source": [
        "#input_path=\"C:\\\\Users\\\\KW0158W10\\\\Desktop\\\\\"\n",
        "#output_path=\"C:\\\\Users\\\\KW0158W10\\\\Desktop\\\\\"\n",
        "#dataname=\"sample_w_normals.xyz\"\n",
        "#point_cloud= np.loadtxt(input_path+dataname,skiprows=1)"
      ]
    },
    {
      "cell_type": "code",
      "execution_count": null,
      "id": "e6c2d1b1",
      "metadata": {
        "id": "e6c2d1b1",
        "outputId": "a1803fb8-f059-4320-d378-a8468c48ff15"
      },
      "outputs": [
        {
          "name": "stdout",
          "output_type": "stream",
          "text": [
            "newrows / Y =  750\n",
            "newcols / X =  400\n"
          ]
        }
      ],
      "source": [
        "Data = cv2.imread('C:\\\\Users\\\\KW0158W10\\\\Desktop\\\\1234_height.tif',-1)\n",
        "rows, cols = Data.shape[0:2]\n",
        "newrows = int(rows/8)\n",
        "newcols = int(cols/8)\n",
        "DataS = cv2.resize(Data , (newcols, newrows))\n",
        "Datanumbers = newrows*newcols\n",
        "print('newrows / Y = ',newrows)\n",
        "print('newcols / X = ',newcols)"
      ]
    },
    {
      "cell_type": "code",
      "execution_count": null,
      "id": "495378da",
      "metadata": {
        "id": "495378da"
      },
      "outputs": [],
      "source": [
        "PCDdata = np.zeros((Datanumbers+1 ,6),dtype=np.uint16)\n",
        "imgH = np.zeros((newrows,newcols),dtype=np.uint8)\n",
        "imgH[:,:] = 255\n",
        "imgS = np.zeros((newrows,newcols),dtype=np.uint8)\n",
        "imgS[:,:] = 255\n",
        "imgG = np.zeros((newrows,newcols),dtype=np.uint8)\n",
        "imgG[:,:] = 255"
      ]
    },
    {
      "cell_type": "code",
      "execution_count": null,
      "id": "30548d60",
      "metadata": {
        "id": "30548d60",
        "outputId": "b5d322f4-081d-43ab-9054-b34ac4b99479"
      },
      "outputs": [
        {
          "data": {
            "text/plain": [
              "(750, 400, 3)"
            ]
          },
          "execution_count": 4,
          "metadata": {},
          "output_type": "execute_result"
        }
      ],
      "source": [
        "RED =  33000\n",
        "BLUE = 31500\n",
        "R = (RED-BLUE)/140\n",
        "for X in range(newrows):\n",
        "    for Y in range(newcols):\n",
        "        newV = int((DataS[X,Y]-BLUE)/R)\n",
        "        if newV > 140 :\n",
        "            imgH[X,Y] = 0\n",
        "        elif newV < 0:\n",
        "            imgH[X,Y] = 140\n",
        "        else:\n",
        "            imgH[X,Y] = 140-newV\n",
        "\n",
        "FullPicHSV = cv2.merge([imgH,imgS,imgG])\n",
        "FullPicBGR = cv2.cvtColor(FullPicHSV,cv2.COLOR_HSV2BGR)\n",
        "FullPicBGR.shape"
      ]
    },
    {
      "cell_type": "code",
      "execution_count": null,
      "id": "017d545a",
      "metadata": {
        "id": "017d545a"
      },
      "outputs": [],
      "source": [
        "#winname = \"CheckColor\"\n",
        "#cv2.namedWindow(winname)        # Create a named window\n",
        "#cv2.moveWindow(winname, 40,30)  # Move it to (40,30)\n",
        "#cv2.imshow(winname, FullPicBGR)\n",
        "#cv2.waitKey()\n",
        "#cv2.destroyAllWindows()"
      ]
    },
    {
      "cell_type": "code",
      "execution_count": null,
      "id": "87beac86",
      "metadata": {
        "scrolled": false,
        "id": "87beac86"
      },
      "outputs": [],
      "source": [
        "i = 0\n",
        "for X in range(newcols):\n",
        "    for Y in range(newrows):\n",
        "        PCDdata[i] = (X,Y,DataS[Y,X]/256,FullPicBGR[Y,X,2],FullPicBGR[Y,X,1],FullPicBGR[Y,X,0])\n",
        "        i+=1"
      ]
    },
    {
      "cell_type": "code",
      "execution_count": null,
      "id": "8d84b680",
      "metadata": {
        "scrolled": true,
        "id": "8d84b680"
      },
      "outputs": [],
      "source": [
        "pcd = o3d.geometry.PointCloud()\n",
        "#pcd.points = o3d.utility.Vector3dVector(point_cloud[:,:3])\n",
        "pcd.points = o3d.utility.Vector3dVector(PCDdata[:,:3])\n",
        "pcd.colors = o3d.utility.Vector3dVector(PCDdata[:,3:6])\n",
        "#pcd.normals = o3d.utility.Vector3dVector(point_cloud[:,6:9])\n",
        "pcd.estimate_normals(search_param=o3d.geometry.KDTreeSearchParamHybrid(radius=0.1, max_nn=30))\n"
      ]
    },
    {
      "cell_type": "code",
      "execution_count": null,
      "id": "2815acf0",
      "metadata": {
        "scrolled": true,
        "id": "2815acf0",
        "outputId": "e5801ea7-bb54-4de2-99c1-da48155ca50a"
      },
      "outputs": [
        {
          "name": "stdout",
          "output_type": "stream",
          "text": [
            "[Open3D WARNING] GLFW Error: WGL: Failed to make context current: 控制代碼無效。 \n",
            "[Open3D WARNING] GLFW Error: WGL: Failed to make context current: 控制代碼無效。 \n"
          ]
        }
      ],
      "source": [
        "o3d.visualization.draw_geometries([pcd])"
      ]
    },
    {
      "cell_type": "code",
      "execution_count": null,
      "id": "fb610d59",
      "metadata": {
        "id": "fb610d59"
      },
      "outputs": [],
      "source": [
        "distances = pcd.compute_nearest_neighbor_distance()\n",
        "avg_dist = np.mean(distances)\n",
        "radius = 3 * avg_dist"
      ]
    },
    {
      "cell_type": "code",
      "execution_count": null,
      "id": "e6c0fae5",
      "metadata": {
        "id": "e6c0fae5"
      },
      "outputs": [],
      "source": [
        "bpa_mesh = o3d.geometry.TriangleMesh.create_from_point_cloud_ball_pivoting(pcd,o3d.utility.DoubleVector([radius, radius * 2]))"
      ]
    },
    {
      "cell_type": "code",
      "execution_count": null,
      "id": "57366117",
      "metadata": {
        "id": "57366117"
      },
      "outputs": [],
      "source": [
        "dec_mesh = bpa_mesh.simplify_quadric_decimation(100000)"
      ]
    },
    {
      "cell_type": "code",
      "execution_count": null,
      "id": "5f15d284",
      "metadata": {
        "scrolled": true,
        "id": "5f15d284",
        "outputId": "1351d505-d005-4396-c7c9-b34ee01be5a4"
      },
      "outputs": [
        {
          "data": {
            "text/plain": [
              "True"
            ]
          },
          "execution_count": 13,
          "metadata": {},
          "output_type": "execute_result"
        }
      ],
      "source": [
        "output_path=\"C:\\\\Users\\\\KW0158W10\\\\Desktop\\\\\"\n",
        "o3d.io.write_triangle_mesh(output_path+\"bpa_mesh.stl\", dec_mesh)"
      ]
    },
    {
      "cell_type": "code",
      "execution_count": null,
      "id": "4873d45f",
      "metadata": {
        "id": "4873d45f"
      },
      "outputs": [],
      "source": [
        "網格處理用Command\n",
        "#dec_mesh.remove_degenerate_triangles()\n",
        "#dec_mesh.remove_duplicated_triangles()\n",
        "#dec_mesh.remove_duplicated_vertices()\n",
        "#dec_mesh.remove_non_manifold_edges()"
      ]
    },
    {
      "cell_type": "code",
      "execution_count": null,
      "id": "9c5695b3",
      "metadata": {
        "id": "9c5695b3"
      },
      "outputs": [],
      "source": [
        "poisson_mesh = o3d.geometry.TriangleMesh.create_from_point_cloud_poisson(pcd, depth=8, width=0, scale=1.1, linear_fit=False)[0]"
      ]
    },
    {
      "cell_type": "code",
      "execution_count": null,
      "id": "cf39870e",
      "metadata": {
        "id": "cf39870e"
      },
      "outputs": [],
      "source": [
        "bbox = pcd.get_axis_aligned_bounding_box()\n",
        "p_mesh_crop = poisson_mesh.crop(bbox)\n",
        "p_mesh_crop = o3d.geometry.TriangleMesh.compute_triangle_normals (p_mesh_crop)"
      ]
    },
    {
      "cell_type": "code",
      "execution_count": null,
      "id": "226e578c",
      "metadata": {
        "id": "226e578c",
        "outputId": "a50e7089-a157-4b47-8e46-44e4dd03170c"
      },
      "outputs": [
        {
          "data": {
            "text/plain": [
              "True"
            ]
          },
          "execution_count": 11,
          "metadata": {},
          "output_type": "execute_result"
        }
      ],
      "source": [
        "output_path=\"C:\\\\Users\\\\KW0158W10\\\\Desktop\\\\\"\n",
        "o3d.io.write_triangle_mesh(output_path+\"1234_height.stl\", p_mesh_crop)"
      ]
    },
    {
      "cell_type": "code",
      "execution_count": null,
      "id": "a5479095",
      "metadata": {
        "id": "a5479095"
      },
      "outputs": [],
      "source": []
    }
  ],
  "metadata": {
    "kernelspec": {
      "display_name": "Python 3 (ipykernel)",
      "language": "python",
      "name": "python3"
    },
    "language_info": {
      "codemirror_mode": {
        "name": "ipython",
        "version": 3
      },
      "file_extension": ".py",
      "mimetype": "text/x-python",
      "name": "python",
      "nbconvert_exporter": "python",
      "pygments_lexer": "ipython3",
      "version": "3.9.7"
    },
    "colab": {
      "provenance": [],
      "include_colab_link": true
    }
  },
  "nbformat": 4,
  "nbformat_minor": 5
}